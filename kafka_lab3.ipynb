{
  "cells": [
    {
      "cell_type": "markdown",
      "metadata": {
        "id": "oiynxczXJ7Q5"
      },
      "source": [
        "# Worked Examples & Exercises - Part 3"
      ]
    },
    {
      "cell_type": "markdown",
      "metadata": {
        "id": "dEzjy63RJ7Q6"
      },
      "source": [
        "## Create Another Kafka Topic"
      ]
    },
    {
      "cell_type": "code",
      "execution_count": null,
      "metadata": {
        "id": "RQTJZdQllrdB",
        "collapsed": true
      },
      "outputs": [],
      "source": [
        "#Download Kafka\n",
        "!wget https://downloads.apache.org/kafka/3.9.0/kafka_2.12-3.9.0.tgz\n",
        "!tar -xzf kafka_2.12-3.9.0.tgz\n",
        "!sudo mv kafka_2.12-3.9.0 /usr/local/kafka"
      ]
    },
    {
      "cell_type": "code",
      "execution_count": null,
      "metadata": {
        "id": "0d3y1nF-lrdC"
      },
      "outputs": [],
      "source": [
        "#Set Environment Variables\n",
        "!echo \"export KAFKA_HOME=/usr/local/kafka\" >> ~/.bashrc\n",
        "!echo \"export PATH=\\$PATH:\\$KAFKA_HOME/bin\" >> ~/.bashrc\n",
        "\n",
        "# Export for current session\n",
        "import os\n",
        "os.environ[\"KAFKA_HOME\"] = \"/usr/local/kafka\"\n",
        "os.environ[\"PATH\"] = os.environ[\"PATH\"] + \":\" + os.environ[\"KAFKA_HOME\"] + \"/bin\"\n",
        "\n",
        "print(\"Environment variables set for this session.\")"
      ]
    },
    {
      "cell_type": "code",
      "source": [
        "#Install Zookeeper and kafkacat\n",
        "!sudo apt-get update\n",
        "!sudo apt-get install -y zookeeper\n",
        "!sudo apt-get install -y kafkacat"
      ],
      "metadata": {
        "id": "3CN9Y-AwKpWJ",
        "collapsed": true
      },
      "execution_count": null,
      "outputs": []
    },
    {
      "cell_type": "code",
      "source": [
        "#Set Zookeeper Environment Variables\n",
        "!echo \"export ZOOKEEPER_HOME=/usr/share/zookeeper\" >> ~/.bashrc\n",
        "!echo \"export PATH=\\$PATH:\\$ZOOKEEPER_HOME/bin\" >> ~/.bashrc\n",
        "\n",
        "# Export for current session\n",
        "import os\n",
        "os.environ[\"ZOOKEEPER_HOME\"] = \"/usr/share/zookeeper\"\n",
        "os.environ[\"PATH\"] = os.environ[\"PATH\"] + \":\" + os.environ[\"ZOOKEEPER_HOME\"] + \"/bin\"\n",
        "\n",
        "print(\"Zookeeper environment variables set for this session.\")"
      ],
      "metadata": {
        "id": "HbPwCbf2KzMz"
      },
      "execution_count": null,
      "outputs": []
    },
    {
      "cell_type": "code",
      "source": [
        "#Start Kafka and Zookeeper\n",
        "# Start Zookeeper first\n",
        "!sudo /usr/share/zookeeper/bin/zkServer.sh start\n",
        "\n",
        "# Add a short delay to ensure Zookeeper is fully started\n",
        "!sleep 5\n",
        "\n",
        "# Start Kafka using the full path\n",
        "!/usr/local/kafka/bin/kafka-server-start.sh -daemon /usr/local/kafka/config/server.properties\n",
        "\n",
        "# Add a short delay to ensure Kafka is fully started\n",
        "!sleep 5\n",
        "\n",
        "print(\"Zookeeper and Kafka started.\")"
      ],
      "metadata": {
        "id": "q3X4K17SLO_C",
        "collapsed": true
      },
      "execution_count": null,
      "outputs": []
    },
    {
      "cell_type": "code",
      "execution_count": null,
      "metadata": {
        "id": "VqyLFJpOJ7Q8"
      },
      "outputs": [],
      "source": [
        "# Create your labWeather topic here\n",
        "!/usr/local/kafka/bin/kafka-topics.sh --create --bootstrap-server localhost:9092 --replication-factor 1 --partitions 5 --topic labWeather"
      ]
    },
    {
      "cell_type": "markdown",
      "metadata": {
        "id": "-jl_NZfDJ7Q8"
      },
      "source": [
        "## Example 7: Check Topic Details"
      ]
    },
    {
      "cell_type": "code",
      "execution_count": null,
      "metadata": {
        "id": "n6wpGdI_J7Q8",
        "collapsed": true
      },
      "outputs": [],
      "source": [
        "!/usr/local/kafka/bin/kafka-topics.sh --describe --bootstrap-server localhost:9092 \\  --topic labWeather"
      ]
    },
    {
      "cell_type": "markdown",
      "metadata": {
        "id": "G9aSHL2qJ7Q8"
      },
      "source": [
        "**What the code does:**\n",
        "- Shows replication factor, partition count, and leader info for weatherTopic.\n",
        "\n",
        "**Exercise 7**:\n",
        "- Describe your labWeather topic.\n",
        "- **Question**: How many partitions and which broker is the leader?"
      ]
    },
    {
      "cell_type": "code",
      "execution_count": null,
      "metadata": {
        "id": "FTjU06D_J7Q8",
        "collapsed": true
      },
      "outputs": [],
      "source": [
        "# Describe your labWeather topic here\n",
        "!!/usr/local/kafka/bin/kafka-topics.sh --bootstrap-server localhost:9092 localhost:2181 \\\n",
        "  --topic labWeather"
      ]
    },
    {
      "cell_type": "code",
      "source": [
        "%%bash\n",
        "# Replace YOUR_API_KEY with your actual OpenweatherMap API key\n",
        "# Note: This is a persistent loop. Use Ctrl+C to stop it when needed.\n",
        "\n",
        "while true\n",
        "do\n",
        "  curl -s \"https://api.openweathermap.org/data/2.5/weather?lat=44.34&lon=10.99&appid=d92c8dcedeeefe00c84b70b3a7e408d9\" |\\\n",
        "  kafka-console-producer --broker-list localhost:9092 --topic labWeather\n",
        "  sleep 0\n",
        "done"
      ],
      "metadata": {
        "id": "nqxHUOILa4zf"
      },
      "execution_count": null,
      "outputs": []
    },
    {
      "cell_type": "code",
      "source": [
        "%%bash\n",
        "# Your modified script here to fetch weather for another city - Paris\n",
        "# Remember to replace YOUR_API_KEY with your actual OpenWeatherMap API key\n",
        "\n",
        "while true\n",
        "do\n",
        "  curl -s \"https://api.openweathermap.org/data/2.5/weather?lat=44.34&lon=10.99&appid=YOUR_API_KEY\" |\\\n",
        "  kafka-console-producer --broker-list localhost:9092 --topic labWeather\n",
        "  sleep 30\n",
        "done"
      ],
      "metadata": {
        "id": "iAobuYMta7FK"
      },
      "execution_count": null,
      "outputs": []
    },
    {
      "cell_type": "markdown",
      "metadata": {
        "id": "Q_Y7bW16J7Q9"
      },
      "source": [
        "## Spark Structured Streaming from Kafka"
      ]
    },
    {
      "cell_type": "markdown",
      "source": [
        "## **View the last five messages from the entire topic**"
      ],
      "metadata": {
        "id": "UcVMuhesTNuc"
      }
    },
    {
      "cell_type": "code",
      "source": [
        "\n",
        "!kafkacat -C -b localhost:9092 -t labWeather -o -5 -e"
      ],
      "metadata": {
        "id": "MtCvn2PoTIJg"
      },
      "execution_count": null,
      "outputs": []
    },
    {
      "cell_type": "markdown",
      "source": [
        "## **View the last five messages from the topic within a specific partition (3)**"
      ],
      "metadata": {
        "id": "AU5ST0VCcVgi"
      }
    },
    {
      "cell_type": "code",
      "source": [
        "!kafkacat -C -b localhost:9092 -t labWeather -p 3 -o -5 -e"
      ],
      "metadata": {
        "id": "ewgC04dYcjuo"
      },
      "execution_count": null,
      "outputs": []
    },
    {
      "cell_type": "markdown",
      "source": [
        "## **Describe the topic again, checking for changes**"
      ],
      "metadata": {
        "id": "v_0mD-WiZzAd"
      }
    },
    {
      "cell_type": "code",
      "source": [
        "!/usr/local/kafka/bin/kafka-topics.sh --describe --bootstrap-server localhost:9092 \\  --topic labWeather"
      ],
      "metadata": {
        "id": "f8Y4chkdZynf"
      },
      "execution_count": null,
      "outputs": []
    },
    {
      "cell_type": "markdown",
      "source": [
        "## **Consume messages from the beginning**"
      ],
      "metadata": {
        "id": "TPJPAMNyVmr8"
      }
    },
    {
      "cell_type": "code",
      "source": [
        "!kafkacat -C -b localhost:9092 -t labWeather -o beginning -e"
      ],
      "metadata": {
        "id": "79TBHrtBVwai"
      },
      "execution_count": null,
      "outputs": []
    },
    {
      "cell_type": "markdown",
      "source": [],
      "metadata": {
        "id": "aFlSBrArVmq5"
      }
    },
    {
      "cell_type": "code",
      "execution_count": null,
      "metadata": {
        "id": "XKeEb_0fJ7Q9",
        "collapsed": true
      },
      "outputs": [],
      "source": [
        "# PySpark code\n",
        "# For Scala, use the commented example below in a Spark shell or notebook with Scala kernel\n",
        "\n",
        "# PySpark code\n",
        "# For Scala, use the commented example below in a Spark shell or notebook with Scala kernel\n",
        "# See the latest SparkQL-Kafka connector here https://repo1.maven.org/maven2/org/apache/spark/spark-sql-kafka-0-10_2.12/\n",
        "\n",
        "from pyspark.sql import SparkSession\n",
        "\n",
        "# Create SparkSession with Kafka packages\n",
        "spark = SparkSession.builder \\\n",
        "    .appName(\"KafkaSparkStreaming\") \\\n",
        "    .config(\"spark.jars.packages\", \"org.apache.spark:spark-sql-kafka-0-10_2.12:3.5.5\") \\\n",
        "    .getOrCreate()\n",
        "\n",
        "# Read from Kafka\n",
        "kafkaDF = spark.readStream \\\n",
        "    .format(\"kafka\") \\\n",
        "    .option(\"kafka.bootstrap.servers\", \"localhost:9092\") \\\n",
        "    .option(\"subscribe\", \"labWeather\") \\\n",
        "    .load()\n",
        "\n",
        "# Process the streaming data\n",
        "query = kafkaDF.selectExpr(\"CAST(value AS STRING)\") \\\n",
        "    .writeStream \\\n",
        "    .format(\"console\") \\\n",
        "    .start()\n",
        "\n",
        "query.awaitTermination()"
      ]
    },
    {
      "cell_type": "code",
      "source": [
        "#Check the Spark version currently running in the notebook\n",
        "print(spark.version)\n"
      ],
      "metadata": {
        "id": "fektgeotgAc_"
      },
      "execution_count": null,
      "outputs": []
    }
  ],
  "metadata": {
    "kernelspec": {
      "display_name": "Python 3",
      "language": "python",
      "name": "python3"
    },
    "language_info": {
      "codemirror_mode": {
        "name": "ipython",
        "version": 3
      },
      "file_extension": ".py",
      "mimetype": "text/x-python",
      "name": "python",
      "nbconvert_exporter": "python",
      "pygments_lexer": "ipython3",
      "version": "3.8.10"
    },
    "colab": {
      "provenance": []
    }
  },
  "nbformat": 4,
  "nbformat_minor": 0
}